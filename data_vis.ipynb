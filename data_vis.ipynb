{
 "cells": [
  {
   "cell_type": "markdown",
   "id": "797ec6e4-d939-470f-b5d5-0fd7b8e9958f",
   "metadata": {},
   "source": [
    "# Data Visualisations"
   ]
  },
  {
   "cell_type": "code",
   "execution_count": 1,
   "id": "97778d7c-5613-4fd5-9a5e-76b609aeea34",
   "metadata": {},
   "outputs": [],
   "source": [
    "import requests\n",
    "import os\n",
    "import dotenv\n",
    "import json"
   ]
  },
  {
   "cell_type": "code",
   "execution_count": null,
   "id": "3237a002-73cf-4953-bae1-29736afc06cf",
   "metadata": {},
   "outputs": [],
   "source": []
  }
 ],
 "metadata": {
  "kernelspec": {
   "display_name": "dev",
   "language": "python",
   "name": "dev"
  },
  "language_info": {
   "codemirror_mode": {
    "name": "ipython",
    "version": 3
   },
   "file_extension": ".py",
   "mimetype": "text/x-python",
   "name": "python",
   "nbconvert_exporter": "python",
   "pygments_lexer": "ipython3",
   "version": "3.7.13"
  }
 },
 "nbformat": 4,
 "nbformat_minor": 5
}
